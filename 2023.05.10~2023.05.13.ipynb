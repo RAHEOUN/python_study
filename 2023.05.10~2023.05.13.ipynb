{
 "cells": [
  {
   "attachments": {},
   "cell_type": "markdown",
   "metadata": {},
   "source": [
    "## 문자열 출력하기\n",
    "문제 설명\n",
    "- 문자열 str이 주어질 때, str을 출력하는 코드를 작성해 보세요."
   ]
  },
  {
   "cell_type": "code",
   "execution_count": 1,
   "metadata": {},
   "outputs": [
    {
     "name": "stdout",
     "output_type": "stream",
     "text": [
      "라\n"
     ]
    }
   ],
   "source": [
    "str = input()\n",
    "print(str)"
   ]
  },
  {
   "attachments": {},
   "cell_type": "markdown",
   "metadata": {},
   "source": [
    "## 문자열 반복해서 출력하기\n",
    "문제 설명\n",
    "- 문자열 str과 정수 n이 주어집니다.\n",
    "str이 n번 반복된 문자열을 만들어 출력하는 코드를 작성해 보세요."
   ]
  },
  {
   "cell_type": "code",
   "execution_count": null,
   "metadata": {},
   "outputs": [],
   "source": [
    "a, b = map(int, input().split())\n",
    "b = int(b)\n",
    "print(a * b)"
   ]
  },
  {
   "attachments": {},
   "cell_type": "markdown",
   "metadata": {},
   "source": [
    "## a와 b 출력하기\n",
    "문제 설명\n",
    "- 정수 a와 b가 주어집니다. 각 수를 입력받아 입출력 예와 같은 형식으로 출력하는 코드를 작성해 보세요.\n"
   ]
  },
  {
   "cell_type": "code",
   "execution_count": null,
   "metadata": {},
   "outputs": [],
   "source": [
    "\n",
    "a, b = map(int, input().split())\n",
    "\n",
    "print(\"a =\", a)\n",
    "print(\"b =\", b)\n"
   ]
  },
  {
   "attachments": {},
   "cell_type": "markdown",
   "metadata": {},
   "source": [
    "## 대소문자 바꿔서 출력하기\n",
    "문제 설명\n",
    "- 영어 알파벳으로 이루어진 문자열 str이 주어집니다. 각 알파벳을 대문자는 소문자로 소문자는 대문자로 변환해서 출력하는 코드를 작성해 보세요.\n",
    "\n"
   ]
  },
  {
   "cell_type": "code",
   "execution_count": null,
   "metadata": {},
   "outputs": [],
   "source": [
    "str = input()\n",
    "\n",
    "answer = \"\"\n",
    "\n",
    "for c in str:\n",
    "    if c.isupper():  # 대문자인 경우\n",
    "        answer += c.lower()\n",
    "    else:  # 소문자인 경우\n",
    "        answer += c.upper()\n",
    "\n",
    "print(answer)\n"
   ]
  },
  {
   "attachments": {},
   "cell_type": "markdown",
   "metadata": {},
   "source": [
    "## 특수문자 출력하기\n",
    "문제 설명\n",
    "다음과 같이 출력하도록 코드를 작성해 주세요.\n",
    "\n"
   ]
  },
  {
   "cell_type": "code",
   "execution_count": null,
   "metadata": {},
   "outputs": [],
   "source": [
    "print(\"!@#$%^&*(\\\\'\\\"<>?:;\")"
   ]
  },
  {
   "attachments": {},
   "cell_type": "markdown",
   "metadata": {},
   "source": [
    "## 문자열 돌리기\n",
    "문제 설명\n",
    "- 문자열 str이 주어집니다.\n",
    "- 문자열을 시계방향으로 90도 돌려서 아래 입출력 예와 같이 출력하는 코드를 작성해 보세요.\n",
    "\n"
   ]
  },
  {
   "cell_type": "code",
   "execution_count": null,
   "metadata": {},
   "outputs": [],
   "source": [
    "str = input()\n",
    "\n",
    "for i in range(len(str)):\n",
    "    print(str[i])"
   ]
  },
  {
   "attachments": {},
   "cell_type": "markdown",
   "metadata": {},
   "source": [
    "## 문자열 섞기\n",
    "문제 설명\n",
    "- 이가 같은 두 문자열 str1과 str2가 주어집니다.\n",
    "\n",
    "- 두 문자열의 각 문자가 앞에서부터 서로 번갈아가면서 한 번씩 등장하는 문자열을 만들어 return 하는 solution 함수를 완성해 주세요.\n",
    "\n"
   ]
  },
  {
   "cell_type": "code",
   "execution_count": null,
   "metadata": {},
   "outputs": [],
   "source": [
    "def solution(str1, str2):\n",
    "    result = \"\"\n",
    "    for i in range(len(str1)):\n",
    "        result += str1[i] + str2[i]\n",
    "    return result\n"
   ]
  },
  {
   "attachments": {},
   "cell_type": "markdown",
   "metadata": {},
   "source": [
    "## 두 수의 연산값 비교하기\n",
    "문제 설명\n",
    "- 연산 ⊕는 두 정수에 대한 연산으로 두 정수를 붙여서 쓴 값을 반환합니다. 예를 들면 다음과 같습니다.\n",
    "\n",
    "    - 12 ⊕ 3 = 123\n",
    "    - 3 ⊕ 12 = 312\n",
    "- 양의 정수 a와 b가 주어졌을 때, a ⊕ b와 2 * a * b 중 더 큰 값을 return하는 solution 함수를 완성해 주세요.\n",
    "\n",
    "- 단, a ⊕ b와 2 * a * b가 같으면 a ⊕ b를 return 합니다."
   ]
  },
  {
   "cell_type": "code",
   "execution_count": null,
   "metadata": {},
   "outputs": [],
   "source": [
    "def solution(a, b):\n",
    "    add = int(str(a) + str(b))\n",
    "    mul = 2 * a * b\n",
    "    if add >= mul:\n",
    "        return add\n",
    "    else:\n",
    "        return mul"
   ]
  },
  {
   "attachments": {},
   "cell_type": "markdown",
   "metadata": {},
   "source": [
    "## 뒤에서 5등까지\n",
    "문제 설명\n",
    "- 정수로 이루어진 리스트 num_list가 주어집니다. num_list에서 가장 작은 5개의 수를 오름차순으로 담은 리스트를 return하도록 solution 함수를 완성해주세요.\n",
    "\n"
   ]
  },
  {
   "cell_type": "code",
   "execution_count": null,
   "metadata": {},
   "outputs": [],
   "source": [
    "def solution(num_list):\n",
    "    answer = sorted(num_list)\n",
    "    return answer[:5]\n"
   ]
  },
  {
   "attachments": {},
   "cell_type": "markdown",
   "metadata": {},
   "source": [
    "## 홀수 vs 짝수\n",
    "문제 설명\n",
    "- 정수 리스트 num_list가 주어집니다. 가장 첫 번째 원소를 1번 원소라고 할 때, 홀수 번째 원소들의 합과 짝수 번째 원소들의 합 중 큰 값을 return 하도록 solution 함수를 완성해주세요. 두 값이 같을 경우 그 값을 return합니다."
   ]
  },
  {
   "cell_type": "code",
   "execution_count": null,
   "metadata": {},
   "outputs": [],
   "source": [
    "def solution(num_list):\n",
    "    answer_odd = 0\n",
    "    answer_even = 0\n",
    "    \n",
    "    for i in range(len(num_list)):\n",
    "        if i % 2 == 0:\n",
    "            answer_even += num_list[i]\n",
    "        else:\n",
    "            answer_odd += num_list[i]\n",
    "\n",
    "    return answer_odd if answer_odd > answer_even else answer_even"
   ]
  },
  {
   "attachments": {},
   "cell_type": "markdown",
   "metadata": {},
   "source": [
    "## 공백으로 구분하기 2\n",
    "문제 설명\n",
    "- 단어가 공백 한 개 이상으로 구분되어 있는 문자열 my_string이 매개변수로 주어질 때, my_string에 나온 단어를 앞에서부터 순서대로 담은 문자열 배열을 return 하는 solution 함수를 작성해 주세요.\n",
    "\n"
   ]
  },
  {
   "cell_type": "code",
   "execution_count": null,
   "metadata": {},
   "outputs": [],
   "source": [
    "def solution(my_string):\n",
    "    answer = []\n",
    "    my_string = \" \".join(my_string.split())\n",
    "    print(my_string)\n",
    "    answer = my_string.split(' ')\n",
    "    return answer"
   ]
  },
  {
   "attachments": {},
   "cell_type": "markdown",
   "metadata": {},
   "source": [
    "## 꼬리 문자열\n",
    "문제 설명\n",
    "- 문자열들이 담긴 리스트가 주어졌을 때, 모든 문자열들을 순서대로 합친 문자열을 꼬리 문자열이라고 합니다. 꼬리 문자열을 만들 때 특정 문자열을 포함한 문자열은 제외시키려고 합니다. 예를 들어 문자열 리스트 [\"abc\", \"def\", \"ghi\"]가 있고 문자열 \"ef\"를 포함한 문자열은 제외하고 꼬리 문자열을 만들면 \"abcghi\"가 됩니다.\n",
    "\n",
    "- 문자열 리스트 str_list와 제외하려는 문자열 ex가 주어질 때, str_list에서 ex를 포함한 문자열을 제외하고 만든 꼬리 문자열을 return하도록 solution 함수를 완성해주세요."
   ]
  },
  {
   "cell_type": "code",
   "execution_count": null,
   "metadata": {},
   "outputs": [],
   "source": [
    "def solution(str_list, ex):\n",
    "    answer = ''\n",
    "    for i in str_list:\n",
    "        if ex not in i:\n",
    "            answer += i\n",
    "    return answer\n"
   ]
  },
  {
   "attachments": {},
   "cell_type": "markdown",
   "metadata": {},
   "source": [
    "## 부분 문자열 이어 붙여 문자열 만들기\n",
    "문제 설명\n",
    "- 길이가 같은 문자열 배열 my_strings와 이차원 정수 배열 parts가 매개변수로 주어집니다. parts[i]는 [s, e] 형태로, my_string[i]의 인덱스 s부터 인덱스 e까지의 부분 문자열을 의미합니다. 각 my_strings의 원소의 parts에 해당하는 부분 문자열을 순서대로 이어 붙인 문자열을 return 하는 solution 함수를 작성해 주세요."
   ]
  },
  {
   "cell_type": "code",
   "execution_count": null,
   "metadata": {},
   "outputs": [],
   "source": [
    "def solution(my_strings, parts):\n",
    "    answer = ''\n",
    "    for j in range(len(my_strings)):\n",
    "        s, e = parts[j]\n",
    "        answer += my_strings[j][s:e+1]\n",
    "    return answer"
   ]
  },
  {
   "attachments": {},
   "cell_type": "markdown",
   "metadata": {},
   "source": [
    "## 간단한 식 계산하기\n",
    "문제 설명\n",
    "- 문자열 binomial이 매개변수로 주어집니다. binomial은 \"a op b\" 형태의 이항식이고 a와 b는 음이 아닌 정수, op는 '+', '-', '*' 중 하나입니다. 주어진 식을 계산한 정수를 return 하는 solution 함수를 작성해 주세요."
   ]
  },
  {
   "cell_type": "code",
   "execution_count": null,
   "metadata": {},
   "outputs": [],
   "source": [
    "def solution(binomial):\n",
    "    \n",
    "    a, op, b = binomial.split(' ')\n",
    "    a = int(a)\n",
    "    b = int(b)\n",
    "\n",
    "    if op == '+':\n",
    "        return a + b\n",
    "    elif op == '-':\n",
    "        return a - b\n",
    "    elif op == '*':\n",
    "        return a * b\n"
   ]
  }
 ],
 "metadata": {
  "kernelspec": {
   "display_name": "pt",
   "language": "python",
   "name": "python3"
  },
  "language_info": {
   "codemirror_mode": {
    "name": "ipython",
    "version": 3
   },
   "file_extension": ".py",
   "mimetype": "text/x-python",
   "name": "python",
   "nbconvert_exporter": "python",
   "pygments_lexer": "ipython3",
   "version": "3.6.15"
  },
  "orig_nbformat": 4
 },
 "nbformat": 4,
 "nbformat_minor": 2
}
