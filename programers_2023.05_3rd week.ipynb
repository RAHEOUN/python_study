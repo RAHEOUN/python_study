{
 "cells": [
  {
   "cell_type": "markdown",
   "metadata": {},
   "source": [
    "## 직사각형 넓이 구하기\n",
    "**문제 설명**\n",
    "- 2차원 좌표 평면에 변이 축과 평행한 직사각형이 있습니다. 직사각형 네 꼭짓점의 좌표 [[x1, y1], [x2, y2], [x3, y3], [x4, y4]]가 담겨있는 배열 dots가 매개변수로 주어질 때, 직사각형의 넓이를 return 하도록 solution 함수를 완성해보세요."
   ]
  },
  {
   "cell_type": "code",
   "execution_count": 1,
   "metadata": {},
   "outputs": [],
   "source": [
    "def solution(dots): \n",
    "    \n",
    "    w = max(dots)[0] - min(dots)[0]\n",
    "    h = max(dots)[1] - min(dots)[1]\n",
    "    answer = w*h\n",
    "    \n",
    "    return answer"
   ]
  },
  {
   "cell_type": "markdown",
   "metadata": {},
   "source": [
    "## 옹알이 (1)\n",
    "**문제 설명**\n",
    "- 머쓱이는 태어난 지 6개월 된 조카를 돌보고 있습니다. 조카는 아직 \"aya\", \"ye\", \"woo\", \"ma\" 네 가지 발음을 최대 한 번씩 사용해 조합한(이어 붙인) 발음밖에 하지 못합니다. 문자열 배열 babbling이 매개변수로 주어질 때, 머쓱이의 조카가 발음할 수 있는 단어의 개수를 return하도록 solution 함수를 완성해주세요."
   ]
  },
  {
   "cell_type": "code",
   "execution_count": null,
   "metadata": {},
   "outputs": [],
   "source": [
    "def solution(babbling):\n",
    "    pronounceable = 0\n",
    "    possible_sounds = [\"aya\", \"ye\", \"woo\", \"ma\"]\n",
    "\n",
    "    for word in babbling:\n",
    "        remaining_sounds = possible_sounds.copy()\n",
    "        index = 0\n",
    "        while index < len(word):\n",
    "            found = False\n",
    "            for sound in remaining_sounds:\n",
    "                if word.startswith(sound, index):\n",
    "                    found = True\n",
    "                    remaining_sounds.remove(sound)\n",
    "                    index += len(sound)\n",
    "                    break\n",
    "            if not found:\n",
    "                break\n",
    "        else:\n",
    "            pronounceable += 1\n",
    "\n",
    "    return pronounceable"
   ]
  },
  {
   "cell_type": "markdown",
   "metadata": {},
   "source": [
    "## 짝수와 홀수\n",
    "**문제 설명**\n",
    "\n",
    "- 정수 num이 짝수일 경우 \"Even\"을 반환하고 홀수인 경우 \"Odd\"를 반환하는 함수, solution을 완성해주세요."
   ]
  },
  {
   "cell_type": "code",
   "execution_count": null,
   "metadata": {},
   "outputs": [],
   "source": [
    "def solution(num):\n",
    "    answer = ''\n",
    "    if num % 2 !=0 :\n",
    "        answer =  \"Odd\"\n",
    "    else:\n",
    "        answer =  \"Even\"\n",
    "    return answer"
   ]
  },
  {
   "cell_type": "markdown",
   "metadata": {},
   "source": [
    "## 평균 구하기\n",
    "**문제 설명**\n",
    "\n",
    "- 정수를 담고 있는 배열 arr의 평균값을 return하는 함수, solution을 완성해보세요.\n"
   ]
  },
  {
   "cell_type": "code",
   "execution_count": null,
   "metadata": {},
   "outputs": [],
   "source": [
    "def solution(arr):\n",
    "    return sum(arr) / len(arr)"
   ]
  },
  {
   "cell_type": "markdown",
   "metadata": {},
   "source": [
    "## 자릿수 더하기\n",
    "**문제 설명**\n",
    "- 자연수 N이 주어지면, N의 각 자릿수의 합을 구해서 return 하는 solution 함수를 만들어 주세요.\n",
    "예를들어 N = 123이면 1 + 2 + 3 = 6을 return 하면 됩니다."
   ]
  },
  {
   "cell_type": "code",
   "execution_count": null,
   "metadata": {},
   "outputs": [],
   "source": [
    "def solution(N):\n",
    "    return sum(int(digit) for digit in str(N))"
   ]
  },
  {
   "cell_type": "markdown",
   "metadata": {},
   "source": [
    "## 나머지가 1이 되는 수 찾기\n",
    "**문제 설명**\n",
    "- 자연수 n이 매개변수로 주어집니다. n을 x로 나눈 나머지가 1이 되도록 하는 가장 작은 자연수 x를 return 하도록 solution 함수를 완성해주세요. 답이 항상 존재함은 증명될 수 있습니다.\n",
    "\n"
   ]
  },
  {
   "cell_type": "code",
   "execution_count": null,
   "metadata": {},
   "outputs": [],
   "source": [
    "def solution(n):\n",
    "    for x in range(2, n):\n",
    "        if n % x == 1:\n",
    "            return x\n",
    "    return n\n"
   ]
  },
  {
   "cell_type": "markdown",
   "metadata": {},
   "source": [
    "## 약수의 합\n",
    "**문제 설명**\n",
    "- 정수 n을 입력받아 n의 약수를 모두 더한 값을 리턴하는 함수, solution을 완성해주세요.\n",
    "\n",
    "제한 사항"
   ]
  },
  {
   "cell_type": "code",
   "execution_count": null,
   "metadata": {},
   "outputs": [],
   "source": [
    "def solution(n):\n",
    "    answer = 0\n",
    "    for i in range(1, n+1):\n",
    "        if n % i == 0:\n",
    "            answer +=i\n",
    "        else:\n",
    "            answer+=0\n",
    "    return answer"
   ]
  },
  {
   "cell_type": "markdown",
   "metadata": {},
   "source": [
    "## x만큼 간격이 있는 n개의 숫자\n",
    "**문제 설명**\n",
    "- 함수 solution은 정수 x와 자연수 n을 입력 받아, x부터 시작해 x씩 증가하는 숫자를 n개 지니는 리스트를 리턴해야 합니다. 다음 제한 조건을 보고, 조건을 만족하는 함수, solution을 완성해주세요.\n",
    "\n"
   ]
  },
  {
   "cell_type": "code",
   "execution_count": null,
   "metadata": {},
   "outputs": [],
   "source": [
    "def solution(x, n):\n",
    "    answer = []\n",
    "    for i in range(1, n+1):\n",
    "        answer.append(x * i)\n",
    "    return answer"
   ]
  },
  {
   "cell_type": "markdown",
   "metadata": {},
   "source": [
    "## 문자열 내 p와 y의 개수\n",
    "**문제 설명**\n",
    "- 대문자와 소문자가 섞여있는 문자열 s가 주어집니다. s에 'p'의 개수와 'y'의 개수를 비교해 같으면 True, 다르면 False를 return 하는 solution를 완성하세요. 'p', 'y' 모두 하나도 없는 경우는 항상 True를 리턴합니다. 단, 개수를 비교할 때 대문자와 소문자는 구별하지 않습니다.\n",
    "\n",
    "- 예를 들어 s가 \"pPoooyY\"면 true를 return하고 \"Pyy\"라면 false를 return합니다.\n",
    "\n",
    "    - 제한사항\n",
    "        - 문자열 s의 길이 : 50 이하의 자연수\n",
    "        - 문자열 s는 알파벳으로만 이루어져 있습니다.`"
   ]
  },
  {
   "cell_type": "code",
   "execution_count": null,
   "metadata": {},
   "outputs": [],
   "source": [
    "def solution(s):\n",
    "    answer=''\n",
    "    s = s.lower()  \n",
    "    count_p = s.count('p')  \n",
    "    count_y = s.count('y')  \n",
    "    \n",
    "    if count_p == count_y:\n",
    "        answer = True\n",
    "    else:\n",
    "        answer = False\n",
    "    return answer"
   ]
  },
  {
   "cell_type": "markdown",
   "metadata": {},
   "source": [
    "## 자연수 뒤집어 배열로 만들기\n",
    "**문제 설명**\n",
    "- 자연수 n을 뒤집어 각 자리 숫자를 원소로 가지는 배열 형태로 리턴해주세요. 예를들어 n이 12345이면 [5,4,3,2,1]을 리턴합니다."
   ]
  },
  {
   "cell_type": "code",
   "execution_count": null,
   "metadata": {},
   "outputs": [],
   "source": [
    "def solution(n):\n",
    "    answer = []\n",
    "\n",
    "    for i in str(n)[::-1]:\n",
    "        answer.append(int(i))\n",
    "    return answer"
   ]
  },
  {
   "cell_type": "markdown",
   "metadata": {},
   "source": [
    "## 정수 제곱근 판별\n",
    "**문제 설명**\n",
    "- 임의의 양의 정수 n에 대해, n이 어떤 양의 정수 x의 제곱인지 아닌지 판단하려 합니다.\n",
    "- n이 양의 정수 x의 제곱이라면 x+1의 제곱을 리턴하고, n이 양의 정수 x의 제곱이 아니라면 -1을 리턴하는 함수를 완성하세요."
   ]
  },
  {
   "cell_type": "code",
   "execution_count": null,
   "metadata": {},
   "outputs": [],
   "source": [
    "import math\n",
    "\n",
    "def solution(n):\n",
    "\n",
    "    x = math.isqrt(n)\n",
    "    return (x+1)**2 if x * x == n else -1\n"
   ]
  },
  {
   "cell_type": "markdown",
   "metadata": {},
   "source": [
    "## 문자열을 정수로 바꾸기\n",
    "**문제 설명**\n",
    "- 문자열 s를 숫자로 변환한 결과를 반환하는 함수, solution을 완성하세요."
   ]
  },
  {
   "cell_type": "code",
   "execution_count": null,
   "metadata": {},
   "outputs": [],
   "source": [
    "def solution(s):\n",
    "    return int(s)\n"
   ]
  },
  {
   "cell_type": "markdown",
   "metadata": {},
   "source": [
    "## 정수 내림차순으로 배치하기\n",
    "**문제 설명**\n",
    "- 함수 solution은 정수 n을 매개변수로 입력받습니다. n의 각 자릿수를 큰것부터 작은 순으로 정렬한 새로운 정수를 리턴해주세요. 예를들어 n이 118372면 873211을 리턴하면 됩니다.\n",
    "\n",
    "제한 조건"
   ]
  },
  {
   "cell_type": "code",
   "execution_count": null,
   "metadata": {},
   "outputs": [],
   "source": [
    "def solution(n):\n",
    "    answer=''\n",
    "    sorted_digits = sorted(str(n), reverse=True)  \n",
    "    answer = int(''.join(sorted_digits))\n",
    "    return answer\n"
   ]
  },
  {
   "cell_type": "markdown",
   "metadata": {},
   "source": [
    "## 하샤드 수\n",
    "**문제 설명**\n",
    "- 양의 정수 x가 하샤드 수이려면 x의 자릿수의 합으로 x가 나누어져야 합니다. 예를 들어 18의 자릿수 합은 1+8=9이고, 18은 9로 나누어 떨어지므로 18은 하샤드 수입니다. 자연수 x를 입력받아 x가 하샤드 수인지 아닌지 검사하는 함수, solution을 완성해주세요.\n"
   ]
  },
  {
   "cell_type": "code",
   "execution_count": null,
   "metadata": {},
   "outputs": [],
   "source": [
    "def solution(x):\n",
    "    answer = sum(int(i) for i in str(x))\n",
    "    return x % answer == 0"
   ]
  },
  {
   "cell_type": "markdown",
   "metadata": {},
   "source": [
    "## 두 정수 사이의 합\n",
    "**문제 설명**\n",
    "- 두 정수 a, b가 주어졌을 때 a와 b 사이에 속한 모든 정수의 합을 리턴하는 함수, solution을 완성하세요.\n",
    "예를 들어 a = 3, b = 5인 경우, 3 + 4 + 5 = 12이므로 12를 리턴합니다.\n"
   ]
  },
  {
   "cell_type": "code",
   "execution_count": null,
   "metadata": {},
   "outputs": [],
   "source": [
    "def solution(a, b):\n",
    "    min_v = min(a, b)\n",
    "    max_v = max(a, b)\n",
    "    answer = (min_v + max_v) * ((max_v - min_v) + 1) // 2\n",
    "    return answer\n"
   ]
  },
  {
   "cell_type": "markdown",
   "metadata": {},
   "source": [
    "## 콜라츠 추측\n",
    "**문제 설명**\n",
    "- 1937년 Collatz란 사람에 의해 제기된 이 추측은, 주어진 수가 1이 될 때까지 다음 작업을 반복하면, 모든 수를 1로 만들 수 있다는 추측입니다. 작업은 다음과 같습니다.\n",
    "\n",
    "        1-1. 입력된 수가 짝수라면 2로 나눕니다. \n",
    "        1-2. 입력된 수가 홀수라면 3을 곱하고 1을 더합니다. \n",
    "        2. 결과로 나온 수에 같은 작업을 1이 될 때까지 반복합니다. \n",
    "\n",
    "- 예를 들어, 주어진 수가 6이라면 6 → 3 → 10 → 5 → 16 → 8 → 4 → 2 → 1 이 되어 총 8번 만에 1이 됩니다. 위 작업을 몇 번이나 반복해야 하는지 반환하는 함수, solution을 완성해 주세요. 단, 주어진 수가 1인 경우에는 0을, 작업을 500번 반복할 때까지 1이 되지 않는다면 –1을 반환해 주세요."
   ]
  },
  {
   "cell_type": "code",
   "execution_count": null,
   "metadata": {},
   "outputs": [],
   "source": [
    "def solution(num):\n",
    "    answer = 0\n",
    "    while num != 1:\n",
    "        if num % 2 == 0:\n",
    "            num //= 2\n",
    "        else:\n",
    "            num = num * 3 + 1\n",
    "        answer += 1\n",
    "        if answer == 500:\n",
    "            return -1\n",
    "    return answer"
   ]
  },
  {
   "cell_type": "code",
   "execution_count": null,
   "metadata": {},
   "outputs": [],
   "source": []
  }
 ],
 "metadata": {
  "kernelspec": {
   "display_name": "Python 3.11.3 64-bit",
   "language": "python",
   "name": "python3"
  },
  "language_info": {
   "codemirror_mode": {
    "name": "ipython",
    "version": 3
   },
   "file_extension": ".py",
   "mimetype": "text/x-python",
   "name": "python",
   "nbconvert_exporter": "python",
   "pygments_lexer": "ipython3",
   "version": "3.11.3"
  },
  "orig_nbformat": 4,
  "vscode": {
   "interpreter": {
    "hash": "de47f5c92c0ee6f12a59a5613ac5feff6aab19ddff207ba0b3964cced08c4ccc"
   }
  }
 },
 "nbformat": 4,
 "nbformat_minor": 2
}
